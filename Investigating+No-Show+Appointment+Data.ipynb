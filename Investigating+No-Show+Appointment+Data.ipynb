{
 "cells": [
  {
   "cell_type": "markdown",
   "metadata": {},
   "source": [
    "\n",
    "\n",
    "# Project: Investigating No-Show Appointment Data \n",
    "\n",
    "## Table of Contents\n",
    "<ul>\n",
    "<li><a href=\"#intro\">Introduction</a></li>\n",
    "<li><a href=\"#wrangling\">Data Wrangling</a></li>\n",
    "<li><a href=\"#eda\">Exploratory Data Analysis</a></li>\n",
    "<li><a href=\"#conclusions\">Conclusions</a></li>\n",
    "</ul>"
   ]
  },
  {
   "cell_type": "markdown",
   "metadata": {},
   "source": [
    "<a id='intro'></a>\n",
    "## Introduction\n",
    "\n",
    ">An analysis will be performed based on a dataset that collects information from 100k medical appointments in Brazil. The dataset looks at those that attended their appointments, and those that missed their appointments. Data has been provided through [Kaggle](https://www.kaggle.com/joniarroba/noshowappointments).\n",
    "\n",
    "> This analysis will look at three questions to determine factors about appointment attendance:\n",
    "1. Which of the following has the largest sum of no-shows? Scholarship, hipertension, diabetes, alcoholism, handicap?\n",
    "2. Which neighborhood has the most no-shows? What kind of issues do these patients have?\n",
    "3. Which day of the week is best for appointments and which day of the week is the worst?\n",
    "4. Does age and patients with hipertension, diabetes, scholarship, and alcoholism affect no-show appointments? \n"
   ]
  },
  {
   "cell_type": "markdown",
   "metadata": {},
   "source": [
    "<img src=\"https://www.ophthalmologymanagement.com/content/archive/2013/April/images/OMD_April_A09_Fig01.jpg\" alt=\"Mountain View\">"
   ]
  },
  {
   "cell_type": "code",
   "execution_count": 74,
   "metadata": {
    "collapsed": true
   },
   "outputs": [],
   "source": [
    "import pandas as pd \n",
    "import numpy as np\n",
    "import matplotlib.pyplot as plt \n",
    "import datetime as datetime\n",
    "from matplotlib import style\n",
    "%matplotlib inline "
   ]
  },
  {
   "cell_type": "markdown",
   "metadata": {},
   "source": [
    "<a id='wrangling'></a>\n",
    "## Data Wrangling\n",
    "\n",
    "\n",
    "### General Properties\n",
    "> Prior to any data clean up, the csv file consists of the following columns:\n",
    "<br>\n",
    "<br>\n",
    "<b>PatientId:</b> Patient identification number.\n",
    "<br>\n",
    "<b>AppointmentID:</b> Appointment identification number.\n",
    "<br>\n",
    "<b>Gender:</b> Gender of patient (male or female).\n",
    "<br>\n",
    "<b>ScheduledDay:</b>The day the patient called to make the appointment. \n",
    "<br>\n",
    "<b>AppointmentDay:</b>The day the patient scheduled the appointment. \n",
    "<br>\n",
    "<b>Age:</b>Age of the patient. \n",
    "\n",
    "<br>\n",
    "<b>Neighbourhood:</b>Appointment location. \n",
    "<br>\n",
    "<b>Scholarship:</b> If a patient receives welfare from [Bolsa Familia](https://en.wikipedia.org/wiki/Bolsa_Fam%C3%ADlia), true = 1, false = 2.\n",
    "<br>\n",
    "<b>Hipertension:</b>Commonly known as hypertension, or high-blood pressure. If patient has hypertension, true = 1, false = 2.\n",
    "<br>\n",
    "<b>Diabetes:</b>If patient has diabetes, true = 1, false = 2.\n",
    "<br>\n",
    "<b>Alcoholism:</b>If patient has alcoholism, true = 1, false = 2.\n",
    "<br>\n",
    "<b>Handcap:</b>If patient is handicappped, true = 1, false = 2.\n",
    "<br>\n",
    "<b>SMS_received:</b>If the patient received a SMS message reminding them of appointment. \n",
    "<br>\n",
    "<b>No-show:</b>If the patient did not show up. Yes = did not show up, no = showed up."
   ]
  },
  {
   "cell_type": "code",
   "execution_count": 3,
   "metadata": {},
   "outputs": [
    {
     "data": {
      "text/html": [
       "<div>\n",
       "<style scoped>\n",
       "    .dataframe tbody tr th:only-of-type {\n",
       "        vertical-align: middle;\n",
       "    }\n",
       "\n",
       "    .dataframe tbody tr th {\n",
       "        vertical-align: top;\n",
       "    }\n",
       "\n",
       "    .dataframe thead th {\n",
       "        text-align: right;\n",
       "    }\n",
       "</style>\n",
       "<table border=\"1\" class=\"dataframe\">\n",
       "  <thead>\n",
       "    <tr style=\"text-align: right;\">\n",
       "      <th></th>\n",
       "      <th>PatientId</th>\n",
       "      <th>AppointmentID</th>\n",
       "      <th>Gender</th>\n",
       "      <th>ScheduledDay</th>\n",
       "      <th>AppointmentDay</th>\n",
       "      <th>Age</th>\n",
       "      <th>Neighbourhood</th>\n",
       "      <th>Scholarship</th>\n",
       "      <th>Hipertension</th>\n",
       "      <th>Diabetes</th>\n",
       "      <th>Alcoholism</th>\n",
       "      <th>Handcap</th>\n",
       "      <th>SMS_received</th>\n",
       "      <th>No-show</th>\n",
       "    </tr>\n",
       "  </thead>\n",
       "  <tbody>\n",
       "    <tr>\n",
       "      <th>0</th>\n",
       "      <td>29872499824296</td>\n",
       "      <td>5642903</td>\n",
       "      <td>F</td>\n",
       "      <td>2016-04-29T18:38:08Z</td>\n",
       "      <td>2016-04-29T00:00:00Z</td>\n",
       "      <td>62</td>\n",
       "      <td>JARDIM DA PENHA</td>\n",
       "      <td>0</td>\n",
       "      <td>1</td>\n",
       "      <td>0</td>\n",
       "      <td>0</td>\n",
       "      <td>0</td>\n",
       "      <td>0</td>\n",
       "      <td>No</td>\n",
       "    </tr>\n",
       "    <tr>\n",
       "      <th>1</th>\n",
       "      <td>558997776694438</td>\n",
       "      <td>5642503</td>\n",
       "      <td>M</td>\n",
       "      <td>2016-04-29T16:08:27Z</td>\n",
       "      <td>2016-04-29T00:00:00Z</td>\n",
       "      <td>56</td>\n",
       "      <td>JARDIM DA PENHA</td>\n",
       "      <td>0</td>\n",
       "      <td>0</td>\n",
       "      <td>0</td>\n",
       "      <td>0</td>\n",
       "      <td>0</td>\n",
       "      <td>0</td>\n",
       "      <td>No</td>\n",
       "    </tr>\n",
       "    <tr>\n",
       "      <th>2</th>\n",
       "      <td>4262962299951</td>\n",
       "      <td>5642549</td>\n",
       "      <td>F</td>\n",
       "      <td>2016-04-29T16:19:04Z</td>\n",
       "      <td>2016-04-29T00:00:00Z</td>\n",
       "      <td>62</td>\n",
       "      <td>MATA DA PRAIA</td>\n",
       "      <td>0</td>\n",
       "      <td>0</td>\n",
       "      <td>0</td>\n",
       "      <td>0</td>\n",
       "      <td>0</td>\n",
       "      <td>0</td>\n",
       "      <td>No</td>\n",
       "    </tr>\n",
       "    <tr>\n",
       "      <th>3</th>\n",
       "      <td>867951213174</td>\n",
       "      <td>5642828</td>\n",
       "      <td>F</td>\n",
       "      <td>2016-04-29T17:29:31Z</td>\n",
       "      <td>2016-04-29T00:00:00Z</td>\n",
       "      <td>8</td>\n",
       "      <td>PONTAL DE CAMBURI</td>\n",
       "      <td>0</td>\n",
       "      <td>0</td>\n",
       "      <td>0</td>\n",
       "      <td>0</td>\n",
       "      <td>0</td>\n",
       "      <td>0</td>\n",
       "      <td>No</td>\n",
       "    </tr>\n",
       "    <tr>\n",
       "      <th>4</th>\n",
       "      <td>8841186448183</td>\n",
       "      <td>5642494</td>\n",
       "      <td>F</td>\n",
       "      <td>2016-04-29T16:07:23Z</td>\n",
       "      <td>2016-04-29T00:00:00Z</td>\n",
       "      <td>56</td>\n",
       "      <td>JARDIM DA PENHA</td>\n",
       "      <td>0</td>\n",
       "      <td>1</td>\n",
       "      <td>1</td>\n",
       "      <td>0</td>\n",
       "      <td>0</td>\n",
       "      <td>0</td>\n",
       "      <td>No</td>\n",
       "    </tr>\n",
       "  </tbody>\n",
       "</table>\n",
       "</div>"
      ],
      "text/plain": [
       "         PatientId  AppointmentID Gender          ScheduledDay  \\\n",
       "0   29872499824296        5642903      F  2016-04-29T18:38:08Z   \n",
       "1  558997776694438        5642503      M  2016-04-29T16:08:27Z   \n",
       "2    4262962299951        5642549      F  2016-04-29T16:19:04Z   \n",
       "3     867951213174        5642828      F  2016-04-29T17:29:31Z   \n",
       "4    8841186448183        5642494      F  2016-04-29T16:07:23Z   \n",
       "\n",
       "         AppointmentDay  Age      Neighbourhood  Scholarship  Hipertension  \\\n",
       "0  2016-04-29T00:00:00Z   62    JARDIM DA PENHA            0             1   \n",
       "1  2016-04-29T00:00:00Z   56    JARDIM DA PENHA            0             0   \n",
       "2  2016-04-29T00:00:00Z   62      MATA DA PRAIA            0             0   \n",
       "3  2016-04-29T00:00:00Z    8  PONTAL DE CAMBURI            0             0   \n",
       "4  2016-04-29T00:00:00Z   56    JARDIM DA PENHA            0             1   \n",
       "\n",
       "   Diabetes  Alcoholism  Handcap  SMS_received No-show  \n",
       "0         0           0        0             0      No  \n",
       "1         0           0        0             0      No  \n",
       "2         0           0        0             0      No  \n",
       "3         0           0        0             0      No  \n",
       "4         1           0        0             0      No  "
      ]
     },
     "execution_count": 3,
     "metadata": {},
     "output_type": "execute_result"
    }
   ],
   "source": [
    "#  df.head() is used to show the first 5 rows and columns of the data set.\n",
    "df = pd.read_csv('noshows.csv', dtype={'PatientId': object})\n",
    "df.head()\n"
   ]
  },
  {
   "cell_type": "markdown",
   "metadata": {},
   "source": [
    "### Data Cleaning "
   ]
  },
  {
   "cell_type": "code",
   "execution_count": 4,
   "metadata": {
    "scrolled": false
   },
   "outputs": [
    {
     "data": {
      "text/plain": [
       "(110527, 14)"
      ]
     },
     "execution_count": 4,
     "metadata": {},
     "output_type": "execute_result"
    }
   ],
   "source": [
    "# Checking the size of the df (rows, columns)\n",
    "df.shape"
   ]
  },
  {
   "cell_type": "code",
   "execution_count": 5,
   "metadata": {},
   "outputs": [
    {
     "data": {
      "text/html": [
       "<div>\n",
       "<style scoped>\n",
       "    .dataframe tbody tr th:only-of-type {\n",
       "        vertical-align: middle;\n",
       "    }\n",
       "\n",
       "    .dataframe tbody tr th {\n",
       "        vertical-align: top;\n",
       "    }\n",
       "\n",
       "    .dataframe thead th {\n",
       "        text-align: right;\n",
       "    }\n",
       "</style>\n",
       "<table border=\"1\" class=\"dataframe\">\n",
       "  <thead>\n",
       "    <tr style=\"text-align: right;\">\n",
       "      <th></th>\n",
       "      <th>patientid</th>\n",
       "      <th>appointmentid</th>\n",
       "      <th>gender</th>\n",
       "      <th>scheduledday</th>\n",
       "      <th>appointmentday</th>\n",
       "      <th>age</th>\n",
       "      <th>neighbourhood</th>\n",
       "      <th>scholarship</th>\n",
       "      <th>hypertension</th>\n",
       "      <th>diabetes</th>\n",
       "      <th>alcoholism</th>\n",
       "      <th>handicap</th>\n",
       "      <th>sms_received</th>\n",
       "      <th>no_show</th>\n",
       "    </tr>\n",
       "  </thead>\n",
       "  <tbody>\n",
       "    <tr>\n",
       "      <th>0</th>\n",
       "      <td>29872499824296</td>\n",
       "      <td>5642903</td>\n",
       "      <td>F</td>\n",
       "      <td>2016-04-29T18:38:08Z</td>\n",
       "      <td>2016-04-29T00:00:00Z</td>\n",
       "      <td>62</td>\n",
       "      <td>JARDIM DA PENHA</td>\n",
       "      <td>0</td>\n",
       "      <td>1</td>\n",
       "      <td>0</td>\n",
       "      <td>0</td>\n",
       "      <td>0</td>\n",
       "      <td>0</td>\n",
       "      <td>No</td>\n",
       "    </tr>\n",
       "    <tr>\n",
       "      <th>1</th>\n",
       "      <td>558997776694438</td>\n",
       "      <td>5642503</td>\n",
       "      <td>M</td>\n",
       "      <td>2016-04-29T16:08:27Z</td>\n",
       "      <td>2016-04-29T00:00:00Z</td>\n",
       "      <td>56</td>\n",
       "      <td>JARDIM DA PENHA</td>\n",
       "      <td>0</td>\n",
       "      <td>0</td>\n",
       "      <td>0</td>\n",
       "      <td>0</td>\n",
       "      <td>0</td>\n",
       "      <td>0</td>\n",
       "      <td>No</td>\n",
       "    </tr>\n",
       "    <tr>\n",
       "      <th>2</th>\n",
       "      <td>4262962299951</td>\n",
       "      <td>5642549</td>\n",
       "      <td>F</td>\n",
       "      <td>2016-04-29T16:19:04Z</td>\n",
       "      <td>2016-04-29T00:00:00Z</td>\n",
       "      <td>62</td>\n",
       "      <td>MATA DA PRAIA</td>\n",
       "      <td>0</td>\n",
       "      <td>0</td>\n",
       "      <td>0</td>\n",
       "      <td>0</td>\n",
       "      <td>0</td>\n",
       "      <td>0</td>\n",
       "      <td>No</td>\n",
       "    </tr>\n",
       "    <tr>\n",
       "      <th>3</th>\n",
       "      <td>867951213174</td>\n",
       "      <td>5642828</td>\n",
       "      <td>F</td>\n",
       "      <td>2016-04-29T17:29:31Z</td>\n",
       "      <td>2016-04-29T00:00:00Z</td>\n",
       "      <td>8</td>\n",
       "      <td>PONTAL DE CAMBURI</td>\n",
       "      <td>0</td>\n",
       "      <td>0</td>\n",
       "      <td>0</td>\n",
       "      <td>0</td>\n",
       "      <td>0</td>\n",
       "      <td>0</td>\n",
       "      <td>No</td>\n",
       "    </tr>\n",
       "    <tr>\n",
       "      <th>4</th>\n",
       "      <td>8841186448183</td>\n",
       "      <td>5642494</td>\n",
       "      <td>F</td>\n",
       "      <td>2016-04-29T16:07:23Z</td>\n",
       "      <td>2016-04-29T00:00:00Z</td>\n",
       "      <td>56</td>\n",
       "      <td>JARDIM DA PENHA</td>\n",
       "      <td>0</td>\n",
       "      <td>1</td>\n",
       "      <td>1</td>\n",
       "      <td>0</td>\n",
       "      <td>0</td>\n",
       "      <td>0</td>\n",
       "      <td>No</td>\n",
       "    </tr>\n",
       "  </tbody>\n",
       "</table>\n",
       "</div>"
      ],
      "text/plain": [
       "         patientid  appointmentid gender          scheduledday  \\\n",
       "0   29872499824296        5642903      F  2016-04-29T18:38:08Z   \n",
       "1  558997776694438        5642503      M  2016-04-29T16:08:27Z   \n",
       "2    4262962299951        5642549      F  2016-04-29T16:19:04Z   \n",
       "3     867951213174        5642828      F  2016-04-29T17:29:31Z   \n",
       "4    8841186448183        5642494      F  2016-04-29T16:07:23Z   \n",
       "\n",
       "         appointmentday  age      neighbourhood  scholarship  hypertension  \\\n",
       "0  2016-04-29T00:00:00Z   62    JARDIM DA PENHA            0             1   \n",
       "1  2016-04-29T00:00:00Z   56    JARDIM DA PENHA            0             0   \n",
       "2  2016-04-29T00:00:00Z   62      MATA DA PRAIA            0             0   \n",
       "3  2016-04-29T00:00:00Z    8  PONTAL DE CAMBURI            0             0   \n",
       "4  2016-04-29T00:00:00Z   56    JARDIM DA PENHA            0             1   \n",
       "\n",
       "   diabetes  alcoholism  handicap  sms_received no_show  \n",
       "0         0           0         0             0      No  \n",
       "1         0           0         0             0      No  \n",
       "2         0           0         0             0      No  \n",
       "3         0           0         0             0      No  \n",
       "4         1           0         0             0      No  "
      ]
     },
     "execution_count": 5,
     "metadata": {},
     "output_type": "execute_result"
    }
   ],
   "source": [
    "# Change column names to lowercase for the remainder of the analysis\n",
    "# column handcap will be changed to handicap for legibility\n",
    "# column hipertension changed to hypertension\n",
    "# colum no-show to no_show\n",
    "df.columns = [x.lower() for x in df.columns]\n",
    "df.rename(columns={'handcap':'handicap', 'hipertension': 'hypertension', 'no-show': 'no_show'}, inplace=True)\n",
    "df.head()"
   ]
  },
  {
   "cell_type": "code",
   "execution_count": 6,
   "metadata": {},
   "outputs": [
    {
     "data": {
      "text/plain": [
       "patientid         object\n",
       "appointmentid      int64\n",
       "gender            object\n",
       "scheduledday      object\n",
       "appointmentday    object\n",
       "age                int64\n",
       "neighbourhood     object\n",
       "scholarship        int64\n",
       "hypertension       int64\n",
       "diabetes           int64\n",
       "alcoholism         int64\n",
       "handicap           int64\n",
       "sms_received       int64\n",
       "no_show           object\n",
       "dtype: object"
      ]
     },
     "execution_count": 6,
     "metadata": {},
     "output_type": "execute_result"
    }
   ],
   "source": [
    "# Check the datatype of the columns\n",
    "\n",
    "df.dtypes"
   ]
  },
  {
   "cell_type": "code",
   "execution_count": 7,
   "metadata": {},
   "outputs": [
    {
     "data": {
      "text/plain": [
       "patientid                 object\n",
       "appointmentid              int64\n",
       "gender                    object\n",
       "scheduledday      datetime64[ns]\n",
       "appointmentday    datetime64[ns]\n",
       "age                        int64\n",
       "neighbourhood             object\n",
       "scholarship                int64\n",
       "hypertension               int64\n",
       "diabetes                   int64\n",
       "alcoholism                 int64\n",
       "handicap                   int64\n",
       "sms_received               int64\n",
       "no_show                   object\n",
       "dtype: object"
      ]
     },
     "execution_count": 7,
     "metadata": {},
     "output_type": "execute_result"
    }
   ],
   "source": [
    "# scheduledday and appointmentday are both objects and should be datetime objects\n",
    "# both columns are converted to datetime objects \n",
    "df['scheduledday'] = pd.to_datetime(df['scheduledday'])\n",
    "df['appointmentday'] = pd.to_datetime(df['appointmentday'])\n",
    "df.dtypes"
   ]
  },
  {
   "cell_type": "code",
   "execution_count": 8,
   "metadata": {},
   "outputs": [
    {
     "data": {
      "text/html": [
       "<div>\n",
       "<style scoped>\n",
       "    .dataframe tbody tr th:only-of-type {\n",
       "        vertical-align: middle;\n",
       "    }\n",
       "\n",
       "    .dataframe tbody tr th {\n",
       "        vertical-align: top;\n",
       "    }\n",
       "\n",
       "    .dataframe thead th {\n",
       "        text-align: right;\n",
       "    }\n",
       "</style>\n",
       "<table border=\"1\" class=\"dataframe\">\n",
       "  <thead>\n",
       "    <tr style=\"text-align: right;\">\n",
       "      <th></th>\n",
       "      <th>patientid</th>\n",
       "      <th>appointmentid</th>\n",
       "      <th>gender</th>\n",
       "      <th>scheduledday</th>\n",
       "      <th>appointmentday</th>\n",
       "      <th>age</th>\n",
       "      <th>neighbourhood</th>\n",
       "      <th>scholarship</th>\n",
       "      <th>hypertension</th>\n",
       "      <th>diabetes</th>\n",
       "      <th>alcoholism</th>\n",
       "      <th>handicap</th>\n",
       "      <th>sms_received</th>\n",
       "      <th>no_show</th>\n",
       "    </tr>\n",
       "  </thead>\n",
       "  <tbody>\n",
       "    <tr>\n",
       "      <th>0</th>\n",
       "      <td>29872499824296</td>\n",
       "      <td>5642903</td>\n",
       "      <td>F</td>\n",
       "      <td>1970-01-01 00:00:00.000000004</td>\n",
       "      <td>1970-01-01 00:00:00.000000004</td>\n",
       "      <td>62</td>\n",
       "      <td>JARDIM DA PENHA</td>\n",
       "      <td>0</td>\n",
       "      <td>1</td>\n",
       "      <td>0</td>\n",
       "      <td>0</td>\n",
       "      <td>0</td>\n",
       "      <td>0</td>\n",
       "      <td>No</td>\n",
       "    </tr>\n",
       "    <tr>\n",
       "      <th>1</th>\n",
       "      <td>558997776694438</td>\n",
       "      <td>5642503</td>\n",
       "      <td>M</td>\n",
       "      <td>1970-01-01 00:00:00.000000004</td>\n",
       "      <td>1970-01-01 00:00:00.000000004</td>\n",
       "      <td>56</td>\n",
       "      <td>JARDIM DA PENHA</td>\n",
       "      <td>0</td>\n",
       "      <td>0</td>\n",
       "      <td>0</td>\n",
       "      <td>0</td>\n",
       "      <td>0</td>\n",
       "      <td>0</td>\n",
       "      <td>No</td>\n",
       "    </tr>\n",
       "    <tr>\n",
       "      <th>2</th>\n",
       "      <td>4262962299951</td>\n",
       "      <td>5642549</td>\n",
       "      <td>F</td>\n",
       "      <td>1970-01-01 00:00:00.000000004</td>\n",
       "      <td>1970-01-01 00:00:00.000000004</td>\n",
       "      <td>62</td>\n",
       "      <td>MATA DA PRAIA</td>\n",
       "      <td>0</td>\n",
       "      <td>0</td>\n",
       "      <td>0</td>\n",
       "      <td>0</td>\n",
       "      <td>0</td>\n",
       "      <td>0</td>\n",
       "      <td>No</td>\n",
       "    </tr>\n",
       "    <tr>\n",
       "      <th>3</th>\n",
       "      <td>867951213174</td>\n",
       "      <td>5642828</td>\n",
       "      <td>F</td>\n",
       "      <td>1970-01-01 00:00:00.000000004</td>\n",
       "      <td>1970-01-01 00:00:00.000000004</td>\n",
       "      <td>8</td>\n",
       "      <td>PONTAL DE CAMBURI</td>\n",
       "      <td>0</td>\n",
       "      <td>0</td>\n",
       "      <td>0</td>\n",
       "      <td>0</td>\n",
       "      <td>0</td>\n",
       "      <td>0</td>\n",
       "      <td>No</td>\n",
       "    </tr>\n",
       "    <tr>\n",
       "      <th>4</th>\n",
       "      <td>8841186448183</td>\n",
       "      <td>5642494</td>\n",
       "      <td>F</td>\n",
       "      <td>1970-01-01 00:00:00.000000004</td>\n",
       "      <td>1970-01-01 00:00:00.000000004</td>\n",
       "      <td>56</td>\n",
       "      <td>JARDIM DA PENHA</td>\n",
       "      <td>0</td>\n",
       "      <td>1</td>\n",
       "      <td>1</td>\n",
       "      <td>0</td>\n",
       "      <td>0</td>\n",
       "      <td>0</td>\n",
       "      <td>No</td>\n",
       "    </tr>\n",
       "  </tbody>\n",
       "</table>\n",
       "</div>"
      ],
      "text/plain": [
       "         patientid  appointmentid gender                  scheduledday  \\\n",
       "0   29872499824296        5642903      F 1970-01-01 00:00:00.000000004   \n",
       "1  558997776694438        5642503      M 1970-01-01 00:00:00.000000004   \n",
       "2    4262962299951        5642549      F 1970-01-01 00:00:00.000000004   \n",
       "3     867951213174        5642828      F 1970-01-01 00:00:00.000000004   \n",
       "4    8841186448183        5642494      F 1970-01-01 00:00:00.000000004   \n",
       "\n",
       "                 appointmentday  age      neighbourhood  scholarship  \\\n",
       "0 1970-01-01 00:00:00.000000004   62    JARDIM DA PENHA            0   \n",
       "1 1970-01-01 00:00:00.000000004   56    JARDIM DA PENHA            0   \n",
       "2 1970-01-01 00:00:00.000000004   62      MATA DA PRAIA            0   \n",
       "3 1970-01-01 00:00:00.000000004    8  PONTAL DE CAMBURI            0   \n",
       "4 1970-01-01 00:00:00.000000004   56    JARDIM DA PENHA            0   \n",
       "\n",
       "   hypertension  diabetes  alcoholism  handicap  sms_received no_show  \n",
       "0             1         0           0         0             0      No  \n",
       "1             0         0           0         0             0      No  \n",
       "2             0         0           0         0             0      No  \n",
       "3             0         0           0         0             0      No  \n",
       "4             1         1           0         0             0      No  "
      ]
     },
     "execution_count": 8,
     "metadata": {},
     "output_type": "execute_result"
    }
   ],
   "source": [
    "# scheduledday and appointmentday columns are now converted to day of week\n",
    "# Monday: 0, Tuesday: 1, Wednesday: 2, Thursday: 3. Friday: 4, Saturday: 5, Sunday: 6\n",
    "\n",
    "df['scheduledday'] = pd.to_datetime(df['scheduledday'].dt.dayofweek)\n",
    "df['appointmentday'] = pd.to_datetime(df['appointmentday'].dt.dayofweek)\n",
    "\n",
    "df.head()"
   ]
  },
  {
   "cell_type": "code",
   "execution_count": 9,
   "metadata": {},
   "outputs": [
    {
     "name": "stdout",
     "output_type": "stream",
     "text": [
      "<class 'pandas.core.frame.DataFrame'>\n",
      "RangeIndex: 110527 entries, 0 to 110526\n",
      "Data columns (total 14 columns):\n",
      "patientid         110527 non-null object\n",
      "appointmentid     110527 non-null int64\n",
      "gender            110527 non-null object\n",
      "scheduledday      110527 non-null datetime64[ns]\n",
      "appointmentday    110527 non-null datetime64[ns]\n",
      "age               110527 non-null int64\n",
      "neighbourhood     110527 non-null object\n",
      "scholarship       110527 non-null int64\n",
      "hypertension      110527 non-null int64\n",
      "diabetes          110527 non-null int64\n",
      "alcoholism        110527 non-null int64\n",
      "handicap          110527 non-null int64\n",
      "sms_received      110527 non-null int64\n",
      "no_show           110527 non-null object\n",
      "dtypes: datetime64[ns](2), int64(8), object(4)\n",
      "memory usage: 11.8+ MB\n"
     ]
    }
   ],
   "source": [
    "# check for nulls\n",
    "df.info()"
   ]
  },
  {
   "cell_type": "markdown",
   "metadata": {},
   "source": [
    "No nulls, with all 110527 entries that match all columns.\n"
   ]
  },
  {
   "cell_type": "code",
   "execution_count": 10,
   "metadata": {},
   "outputs": [
    {
     "data": {
      "text/html": [
       "<div>\n",
       "<style scoped>\n",
       "    .dataframe tbody tr th:only-of-type {\n",
       "        vertical-align: middle;\n",
       "    }\n",
       "\n",
       "    .dataframe tbody tr th {\n",
       "        vertical-align: top;\n",
       "    }\n",
       "\n",
       "    .dataframe thead th {\n",
       "        text-align: right;\n",
       "    }\n",
       "</style>\n",
       "<table border=\"1\" class=\"dataframe\">\n",
       "  <thead>\n",
       "    <tr style=\"text-align: right;\">\n",
       "      <th></th>\n",
       "      <th>appointmentid</th>\n",
       "      <th>age</th>\n",
       "      <th>scholarship</th>\n",
       "      <th>hypertension</th>\n",
       "      <th>diabetes</th>\n",
       "      <th>alcoholism</th>\n",
       "      <th>handicap</th>\n",
       "      <th>sms_received</th>\n",
       "    </tr>\n",
       "  </thead>\n",
       "  <tbody>\n",
       "    <tr>\n",
       "      <th>count</th>\n",
       "      <td>1.105270e+05</td>\n",
       "      <td>110527.000000</td>\n",
       "      <td>110527.000000</td>\n",
       "      <td>110527.000000</td>\n",
       "      <td>110527.000000</td>\n",
       "      <td>110527.000000</td>\n",
       "      <td>110527.000000</td>\n",
       "      <td>110527.000000</td>\n",
       "    </tr>\n",
       "    <tr>\n",
       "      <th>mean</th>\n",
       "      <td>5.675305e+06</td>\n",
       "      <td>37.088874</td>\n",
       "      <td>0.098266</td>\n",
       "      <td>0.197246</td>\n",
       "      <td>0.071865</td>\n",
       "      <td>0.030400</td>\n",
       "      <td>0.022248</td>\n",
       "      <td>0.321026</td>\n",
       "    </tr>\n",
       "    <tr>\n",
       "      <th>std</th>\n",
       "      <td>7.129575e+04</td>\n",
       "      <td>23.110205</td>\n",
       "      <td>0.297675</td>\n",
       "      <td>0.397921</td>\n",
       "      <td>0.258265</td>\n",
       "      <td>0.171686</td>\n",
       "      <td>0.161543</td>\n",
       "      <td>0.466873</td>\n",
       "    </tr>\n",
       "    <tr>\n",
       "      <th>min</th>\n",
       "      <td>5.030230e+06</td>\n",
       "      <td>-1.000000</td>\n",
       "      <td>0.000000</td>\n",
       "      <td>0.000000</td>\n",
       "      <td>0.000000</td>\n",
       "      <td>0.000000</td>\n",
       "      <td>0.000000</td>\n",
       "      <td>0.000000</td>\n",
       "    </tr>\n",
       "    <tr>\n",
       "      <th>25%</th>\n",
       "      <td>5.640286e+06</td>\n",
       "      <td>18.000000</td>\n",
       "      <td>0.000000</td>\n",
       "      <td>0.000000</td>\n",
       "      <td>0.000000</td>\n",
       "      <td>0.000000</td>\n",
       "      <td>0.000000</td>\n",
       "      <td>0.000000</td>\n",
       "    </tr>\n",
       "    <tr>\n",
       "      <th>50%</th>\n",
       "      <td>5.680573e+06</td>\n",
       "      <td>37.000000</td>\n",
       "      <td>0.000000</td>\n",
       "      <td>0.000000</td>\n",
       "      <td>0.000000</td>\n",
       "      <td>0.000000</td>\n",
       "      <td>0.000000</td>\n",
       "      <td>0.000000</td>\n",
       "    </tr>\n",
       "    <tr>\n",
       "      <th>75%</th>\n",
       "      <td>5.725524e+06</td>\n",
       "      <td>55.000000</td>\n",
       "      <td>0.000000</td>\n",
       "      <td>0.000000</td>\n",
       "      <td>0.000000</td>\n",
       "      <td>0.000000</td>\n",
       "      <td>0.000000</td>\n",
       "      <td>1.000000</td>\n",
       "    </tr>\n",
       "    <tr>\n",
       "      <th>max</th>\n",
       "      <td>5.790484e+06</td>\n",
       "      <td>115.000000</td>\n",
       "      <td>1.000000</td>\n",
       "      <td>1.000000</td>\n",
       "      <td>1.000000</td>\n",
       "      <td>1.000000</td>\n",
       "      <td>4.000000</td>\n",
       "      <td>1.000000</td>\n",
       "    </tr>\n",
       "  </tbody>\n",
       "</table>\n",
       "</div>"
      ],
      "text/plain": [
       "       appointmentid            age    scholarship   hypertension  \\\n",
       "count   1.105270e+05  110527.000000  110527.000000  110527.000000   \n",
       "mean    5.675305e+06      37.088874       0.098266       0.197246   \n",
       "std     7.129575e+04      23.110205       0.297675       0.397921   \n",
       "min     5.030230e+06      -1.000000       0.000000       0.000000   \n",
       "25%     5.640286e+06      18.000000       0.000000       0.000000   \n",
       "50%     5.680573e+06      37.000000       0.000000       0.000000   \n",
       "75%     5.725524e+06      55.000000       0.000000       0.000000   \n",
       "max     5.790484e+06     115.000000       1.000000       1.000000   \n",
       "\n",
       "            diabetes     alcoholism       handicap   sms_received  \n",
       "count  110527.000000  110527.000000  110527.000000  110527.000000  \n",
       "mean        0.071865       0.030400       0.022248       0.321026  \n",
       "std         0.258265       0.171686       0.161543       0.466873  \n",
       "min         0.000000       0.000000       0.000000       0.000000  \n",
       "25%         0.000000       0.000000       0.000000       0.000000  \n",
       "50%         0.000000       0.000000       0.000000       0.000000  \n",
       "75%         0.000000       0.000000       0.000000       1.000000  \n",
       "max         1.000000       1.000000       4.000000       1.000000  "
      ]
     },
     "execution_count": 10,
     "metadata": {},
     "output_type": "execute_result"
    }
   ],
   "source": [
    "# check data for any issues\n",
    "df.describe()"
   ]
  },
  {
   "cell_type": "markdown",
   "metadata": {},
   "source": [
    "For the sake of legibility, the patientid and appointmentid will be converted to strings.\n",
    "<br>\n",
    "Additionally, there seems to be a patient with an age of -1. "
   ]
  },
  {
   "cell_type": "code",
   "execution_count": 11,
   "metadata": {},
   "outputs": [
    {
     "data": {
      "text/html": [
       "<div>\n",
       "<style scoped>\n",
       "    .dataframe tbody tr th:only-of-type {\n",
       "        vertical-align: middle;\n",
       "    }\n",
       "\n",
       "    .dataframe tbody tr th {\n",
       "        vertical-align: top;\n",
       "    }\n",
       "\n",
       "    .dataframe thead th {\n",
       "        text-align: right;\n",
       "    }\n",
       "</style>\n",
       "<table border=\"1\" class=\"dataframe\">\n",
       "  <thead>\n",
       "    <tr style=\"text-align: right;\">\n",
       "      <th></th>\n",
       "      <th>patientid</th>\n",
       "      <th>appointmentid</th>\n",
       "      <th>gender</th>\n",
       "      <th>scheduledday</th>\n",
       "      <th>appointmentday</th>\n",
       "      <th>age</th>\n",
       "      <th>neighbourhood</th>\n",
       "      <th>scholarship</th>\n",
       "      <th>hypertension</th>\n",
       "      <th>diabetes</th>\n",
       "      <th>alcoholism</th>\n",
       "      <th>handicap</th>\n",
       "      <th>sms_received</th>\n",
       "      <th>no_show</th>\n",
       "    </tr>\n",
       "  </thead>\n",
       "  <tbody>\n",
       "    <tr>\n",
       "      <th>0</th>\n",
       "      <td>29872499824296</td>\n",
       "      <td>5642903</td>\n",
       "      <td>F</td>\n",
       "      <td>1970-01-01 00:00:00.000000004</td>\n",
       "      <td>1970-01-01 00:00:00.000000004</td>\n",
       "      <td>62</td>\n",
       "      <td>JARDIM DA PENHA</td>\n",
       "      <td>0</td>\n",
       "      <td>1</td>\n",
       "      <td>0</td>\n",
       "      <td>0</td>\n",
       "      <td>0</td>\n",
       "      <td>0</td>\n",
       "      <td>No</td>\n",
       "    </tr>\n",
       "    <tr>\n",
       "      <th>1</th>\n",
       "      <td>558997776694438</td>\n",
       "      <td>5642503</td>\n",
       "      <td>M</td>\n",
       "      <td>1970-01-01 00:00:00.000000004</td>\n",
       "      <td>1970-01-01 00:00:00.000000004</td>\n",
       "      <td>56</td>\n",
       "      <td>JARDIM DA PENHA</td>\n",
       "      <td>0</td>\n",
       "      <td>0</td>\n",
       "      <td>0</td>\n",
       "      <td>0</td>\n",
       "      <td>0</td>\n",
       "      <td>0</td>\n",
       "      <td>No</td>\n",
       "    </tr>\n",
       "    <tr>\n",
       "      <th>2</th>\n",
       "      <td>4262962299951</td>\n",
       "      <td>5642549</td>\n",
       "      <td>F</td>\n",
       "      <td>1970-01-01 00:00:00.000000004</td>\n",
       "      <td>1970-01-01 00:00:00.000000004</td>\n",
       "      <td>62</td>\n",
       "      <td>MATA DA PRAIA</td>\n",
       "      <td>0</td>\n",
       "      <td>0</td>\n",
       "      <td>0</td>\n",
       "      <td>0</td>\n",
       "      <td>0</td>\n",
       "      <td>0</td>\n",
       "      <td>No</td>\n",
       "    </tr>\n",
       "    <tr>\n",
       "      <th>3</th>\n",
       "      <td>867951213174</td>\n",
       "      <td>5642828</td>\n",
       "      <td>F</td>\n",
       "      <td>1970-01-01 00:00:00.000000004</td>\n",
       "      <td>1970-01-01 00:00:00.000000004</td>\n",
       "      <td>8</td>\n",
       "      <td>PONTAL DE CAMBURI</td>\n",
       "      <td>0</td>\n",
       "      <td>0</td>\n",
       "      <td>0</td>\n",
       "      <td>0</td>\n",
       "      <td>0</td>\n",
       "      <td>0</td>\n",
       "      <td>No</td>\n",
       "    </tr>\n",
       "    <tr>\n",
       "      <th>4</th>\n",
       "      <td>8841186448183</td>\n",
       "      <td>5642494</td>\n",
       "      <td>F</td>\n",
       "      <td>1970-01-01 00:00:00.000000004</td>\n",
       "      <td>1970-01-01 00:00:00.000000004</td>\n",
       "      <td>56</td>\n",
       "      <td>JARDIM DA PENHA</td>\n",
       "      <td>0</td>\n",
       "      <td>1</td>\n",
       "      <td>1</td>\n",
       "      <td>0</td>\n",
       "      <td>0</td>\n",
       "      <td>0</td>\n",
       "      <td>No</td>\n",
       "    </tr>\n",
       "  </tbody>\n",
       "</table>\n",
       "</div>"
      ],
      "text/plain": [
       "         patientid appointmentid gender                  scheduledday  \\\n",
       "0   29872499824296       5642903      F 1970-01-01 00:00:00.000000004   \n",
       "1  558997776694438       5642503      M 1970-01-01 00:00:00.000000004   \n",
       "2    4262962299951       5642549      F 1970-01-01 00:00:00.000000004   \n",
       "3     867951213174       5642828      F 1970-01-01 00:00:00.000000004   \n",
       "4    8841186448183       5642494      F 1970-01-01 00:00:00.000000004   \n",
       "\n",
       "                 appointmentday  age      neighbourhood  scholarship  \\\n",
       "0 1970-01-01 00:00:00.000000004   62    JARDIM DA PENHA            0   \n",
       "1 1970-01-01 00:00:00.000000004   56    JARDIM DA PENHA            0   \n",
       "2 1970-01-01 00:00:00.000000004   62      MATA DA PRAIA            0   \n",
       "3 1970-01-01 00:00:00.000000004    8  PONTAL DE CAMBURI            0   \n",
       "4 1970-01-01 00:00:00.000000004   56    JARDIM DA PENHA            0   \n",
       "\n",
       "   hypertension  diabetes  alcoholism  handicap  sms_received no_show  \n",
       "0             1         0           0         0             0      No  \n",
       "1             0         0           0         0             0      No  \n",
       "2             0         0           0         0             0      No  \n",
       "3             0         0           0         0             0      No  \n",
       "4             1         1           0         0             0      No  "
      ]
     },
     "execution_count": 11,
     "metadata": {},
     "output_type": "execute_result"
    }
   ],
   "source": [
    "#convert patientid and appointmentid to string, *patientid has been updated to the original import*\n",
    "df['appointmentid'] = df['appointmentid'].astype(str)\n",
    "df.head()"
   ]
  },
  {
   "cell_type": "code",
   "execution_count": 12,
   "metadata": {},
   "outputs": [
    {
     "data": {
      "text/html": [
       "<div>\n",
       "<style scoped>\n",
       "    .dataframe tbody tr th:only-of-type {\n",
       "        vertical-align: middle;\n",
       "    }\n",
       "\n",
       "    .dataframe tbody tr th {\n",
       "        vertical-align: top;\n",
       "    }\n",
       "\n",
       "    .dataframe thead th {\n",
       "        text-align: right;\n",
       "    }\n",
       "</style>\n",
       "<table border=\"1\" class=\"dataframe\">\n",
       "  <thead>\n",
       "    <tr style=\"text-align: right;\">\n",
       "      <th></th>\n",
       "      <th>age</th>\n",
       "      <th>scholarship</th>\n",
       "      <th>hypertension</th>\n",
       "      <th>diabetes</th>\n",
       "      <th>alcoholism</th>\n",
       "      <th>handicap</th>\n",
       "      <th>sms_received</th>\n",
       "    </tr>\n",
       "  </thead>\n",
       "  <tbody>\n",
       "    <tr>\n",
       "      <th>count</th>\n",
       "      <td>110526.000000</td>\n",
       "      <td>110526.000000</td>\n",
       "      <td>110526.000000</td>\n",
       "      <td>110526.000000</td>\n",
       "      <td>110526.000000</td>\n",
       "      <td>110526.000000</td>\n",
       "      <td>110526.000000</td>\n",
       "    </tr>\n",
       "    <tr>\n",
       "      <th>mean</th>\n",
       "      <td>37.089219</td>\n",
       "      <td>0.098266</td>\n",
       "      <td>0.197248</td>\n",
       "      <td>0.071865</td>\n",
       "      <td>0.030400</td>\n",
       "      <td>0.022248</td>\n",
       "      <td>0.321029</td>\n",
       "    </tr>\n",
       "    <tr>\n",
       "      <th>std</th>\n",
       "      <td>23.110026</td>\n",
       "      <td>0.297676</td>\n",
       "      <td>0.397923</td>\n",
       "      <td>0.258266</td>\n",
       "      <td>0.171686</td>\n",
       "      <td>0.161543</td>\n",
       "      <td>0.466874</td>\n",
       "    </tr>\n",
       "    <tr>\n",
       "      <th>min</th>\n",
       "      <td>0.000000</td>\n",
       "      <td>0.000000</td>\n",
       "      <td>0.000000</td>\n",
       "      <td>0.000000</td>\n",
       "      <td>0.000000</td>\n",
       "      <td>0.000000</td>\n",
       "      <td>0.000000</td>\n",
       "    </tr>\n",
       "    <tr>\n",
       "      <th>25%</th>\n",
       "      <td>18.000000</td>\n",
       "      <td>0.000000</td>\n",
       "      <td>0.000000</td>\n",
       "      <td>0.000000</td>\n",
       "      <td>0.000000</td>\n",
       "      <td>0.000000</td>\n",
       "      <td>0.000000</td>\n",
       "    </tr>\n",
       "    <tr>\n",
       "      <th>50%</th>\n",
       "      <td>37.000000</td>\n",
       "      <td>0.000000</td>\n",
       "      <td>0.000000</td>\n",
       "      <td>0.000000</td>\n",
       "      <td>0.000000</td>\n",
       "      <td>0.000000</td>\n",
       "      <td>0.000000</td>\n",
       "    </tr>\n",
       "    <tr>\n",
       "      <th>75%</th>\n",
       "      <td>55.000000</td>\n",
       "      <td>0.000000</td>\n",
       "      <td>0.000000</td>\n",
       "      <td>0.000000</td>\n",
       "      <td>0.000000</td>\n",
       "      <td>0.000000</td>\n",
       "      <td>1.000000</td>\n",
       "    </tr>\n",
       "    <tr>\n",
       "      <th>max</th>\n",
       "      <td>115.000000</td>\n",
       "      <td>1.000000</td>\n",
       "      <td>1.000000</td>\n",
       "      <td>1.000000</td>\n",
       "      <td>1.000000</td>\n",
       "      <td>4.000000</td>\n",
       "      <td>1.000000</td>\n",
       "    </tr>\n",
       "  </tbody>\n",
       "</table>\n",
       "</div>"
      ],
      "text/plain": [
       "                 age    scholarship   hypertension       diabetes  \\\n",
       "count  110526.000000  110526.000000  110526.000000  110526.000000   \n",
       "mean       37.089219       0.098266       0.197248       0.071865   \n",
       "std        23.110026       0.297676       0.397923       0.258266   \n",
       "min         0.000000       0.000000       0.000000       0.000000   \n",
       "25%        18.000000       0.000000       0.000000       0.000000   \n",
       "50%        37.000000       0.000000       0.000000       0.000000   \n",
       "75%        55.000000       0.000000       0.000000       0.000000   \n",
       "max       115.000000       1.000000       1.000000       1.000000   \n",
       "\n",
       "          alcoholism       handicap   sms_received  \n",
       "count  110526.000000  110526.000000  110526.000000  \n",
       "mean        0.030400       0.022248       0.321029  \n",
       "std         0.171686       0.161543       0.466874  \n",
       "min         0.000000       0.000000       0.000000  \n",
       "25%         0.000000       0.000000       0.000000  \n",
       "50%         0.000000       0.000000       0.000000  \n",
       "75%         0.000000       0.000000       1.000000  \n",
       "max         1.000000       4.000000       1.000000  "
      ]
     },
     "execution_count": 12,
     "metadata": {},
     "output_type": "execute_result"
    }
   ],
   "source": [
    "#locate the cell with the age of -1 then drop row 99832\n",
    "\n",
    "df.query('age == -1')\n",
    "df.drop(df.index[99832], inplace=True)\n",
    "df.describe()"
   ]
  },
  {
   "cell_type": "markdown",
   "metadata": {},
   "source": [
    "Now the minimum age is 0."
   ]
  },
  {
   "cell_type": "code",
   "execution_count": 13,
   "metadata": {
    "collapsed": true
   },
   "outputs": [],
   "source": [
    "#drop any duplicates\n",
    "df.drop_duplicates(inplace=True)"
   ]
  },
  {
   "cell_type": "markdown",
   "metadata": {},
   "source": [
    "There is no duplicated data in this dataset. "
   ]
  },
  {
   "cell_type": "code",
   "execution_count": 14,
   "metadata": {
    "scrolled": false
   },
   "outputs": [
    {
     "data": {
      "text/plain": [
       "patientid         88207\n",
       "appointmentid     88207\n",
       "gender            88207\n",
       "scheduledday      88207\n",
       "appointmentday    88207\n",
       "age               88207\n",
       "neighbourhood     88207\n",
       "scholarship       88207\n",
       "hypertension      88207\n",
       "diabetes          88207\n",
       "alcoholism        88207\n",
       "handicap          88207\n",
       "sms_received      88207\n",
       "no_show           88207\n",
       "dtype: int64"
      ]
     },
     "execution_count": 14,
     "metadata": {},
     "output_type": "execute_result"
    }
   ],
   "source": [
    "df.query('no_show == \"No\"').count()"
   ]
  },
  {
   "cell_type": "markdown",
   "metadata": {},
   "source": [
    "<a id='eda'></a>\n",
    "## Exploratory Data Analysis\n",
    "\n",
    "\n",
    "### Which of the following has the largest sum of no-shows? Scholarship, Hypertension, Diabetes, Alcoholism, Handicap?"
   ]
  },
  {
   "cell_type": "code",
   "execution_count": 15,
   "metadata": {},
   "outputs": [
    {
     "data": {
      "text/plain": [
       "patientid         2578\n",
       "appointmentid     2578\n",
       "gender            2578\n",
       "scheduledday      2578\n",
       "appointmentday    2578\n",
       "age               2578\n",
       "neighbourhood     2578\n",
       "scholarship       2578\n",
       "hypertension      2578\n",
       "diabetes          2578\n",
       "alcoholism        2578\n",
       "handicap          2578\n",
       "sms_received      2578\n",
       "no_show           2578\n",
       "dtype: int64"
      ]
     },
     "execution_count": 15,
     "metadata": {},
     "output_type": "execute_result"
    }
   ],
   "source": [
    "# get sum of patients that did not show up enrolled in the scholarship program\n",
    "scholar_count = df.query('scholarship == 1')\n",
    "scholar_count = scholar_count.query('no_show == \"Yes\"').count()\n",
    "scholar_count"
   ]
  },
  {
   "cell_type": "markdown",
   "metadata": {},
   "source": [
    "Total patients that did not show up enrolled in the scholarship program: <b>2578</b>\n",
    "    \n",
    "  "
   ]
  },
  {
   "cell_type": "code",
   "execution_count": 16,
   "metadata": {
    "scrolled": false
   },
   "outputs": [
    {
     "data": {
      "text/plain": [
       "patientid         3772\n",
       "appointmentid     3772\n",
       "gender            3772\n",
       "scheduledday      3772\n",
       "appointmentday    3772\n",
       "age               3772\n",
       "neighbourhood     3772\n",
       "scholarship       3772\n",
       "hypertension      3772\n",
       "diabetes          3772\n",
       "alcoholism        3772\n",
       "handicap          3772\n",
       "sms_received      3772\n",
       "no_show           3772\n",
       "dtype: int64"
      ]
     },
     "execution_count": 16,
     "metadata": {},
     "output_type": "execute_result"
    }
   ],
   "source": [
    "# get sum of patients that did not show up with hipertension \n",
    "hyper_count = df.query('hypertension == 1')\n",
    "count = hyper_count.query('no_show == \"Yes\"').count()\n",
    "count\n"
   ]
  },
  {
   "cell_type": "markdown",
   "metadata": {},
   "source": [
    "Total patients that did not show up with hipertension: <b>3772</b>"
   ]
  },
  {
   "cell_type": "code",
   "execution_count": 20,
   "metadata": {},
   "outputs": [
    {
     "data": {
      "text/plain": [
       "patientid         1430\n",
       "appointmentid     1430\n",
       "gender            1430\n",
       "scheduledday      1430\n",
       "appointmentday    1430\n",
       "age               1430\n",
       "neighbourhood     1430\n",
       "scholarship       1430\n",
       "hypertension      1430\n",
       "diabetes          1430\n",
       "alcoholism        1430\n",
       "handicap          1430\n",
       "sms_received      1430\n",
       "no_show           1430\n",
       "dtype: int64"
      ]
     },
     "execution_count": 20,
     "metadata": {},
     "output_type": "execute_result"
    }
   ],
   "source": [
    "# get sum of patients that did not show up with diabetes \n",
    "diabetes_count = df.query('diabetes == 1')\n",
    "diabetes_count = diabetes_count.query('no_show == \"Yes\"').count()\n",
    "diabetes_count"
   ]
  },
  {
   "cell_type": "markdown",
   "metadata": {},
   "source": [
    "Total patients that did not show up with diabetes: <b>1430</b>"
   ]
  },
  {
   "cell_type": "code",
   "execution_count": 21,
   "metadata": {},
   "outputs": [
    {
     "data": {
      "text/plain": [
       "patientid         677\n",
       "appointmentid     677\n",
       "gender            677\n",
       "scheduledday      677\n",
       "appointmentday    677\n",
       "age               677\n",
       "neighbourhood     677\n",
       "scholarship       677\n",
       "hypertension      677\n",
       "diabetes          677\n",
       "alcoholism        677\n",
       "handicap          677\n",
       "sms_received      677\n",
       "no_show           677\n",
       "dtype: int64"
      ]
     },
     "execution_count": 21,
     "metadata": {},
     "output_type": "execute_result"
    }
   ],
   "source": [
    "# get sum of patients that did not show up with alcoholism \n",
    "alcoholism_count = df.query('alcoholism == 1')\n",
    "alcoholism_count = alcoholism_count.query('no_show == \"Yes\"').count()\n",
    "alcoholism_count"
   ]
  },
  {
   "cell_type": "markdown",
   "metadata": {},
   "source": [
    "Total patients that did not show up with alcoholism: <b>677</b>"
   ]
  },
  {
   "cell_type": "code",
   "execution_count": 22,
   "metadata": {},
   "outputs": [
    {
     "data": {
      "text/plain": [
       "patientid         366\n",
       "appointmentid     366\n",
       "gender            366\n",
       "scheduledday      366\n",
       "appointmentday    366\n",
       "age               366\n",
       "neighbourhood     366\n",
       "scholarship       366\n",
       "hypertension      366\n",
       "diabetes          366\n",
       "alcoholism        366\n",
       "handicap          366\n",
       "sms_received      366\n",
       "no_show           366\n",
       "dtype: int64"
      ]
     },
     "execution_count": 22,
     "metadata": {},
     "output_type": "execute_result"
    }
   ],
   "source": [
    "# get sum of patients that did not show up with a handicap\n",
    "handicap_count = df.query('handicap == 1')\n",
    "handicap_count = handicap_count.query('no_show == \"Yes\"').count()\n",
    "handicap_count"
   ]
  },
  {
   "cell_type": "markdown",
   "metadata": {},
   "source": [
    "Total patients that did not show up with a handicap: <b>366</b>\n",
    "<br>\n",
    "<b>- - - - - - - - - - - - - - - - - - - - - - - - -</b>\n",
    "<br>\n"
   ]
  },
  {
   "cell_type": "markdown",
   "metadata": {},
   "source": [
    "For plotting, the following sums will be used:\n",
    "<br>\n",
    "Scholarship: 2578\n",
    "<br>\n",
    "Hipertension: 3772\n",
    "<br>\n",
    "Diabetes: 1430\n",
    "<br>\n",
    "Alcoholism: 677\n",
    "<br>\n",
    "Handicap: 366"
   ]
  },
  {
   "cell_type": "code",
   "execution_count": 37,
   "metadata": {},
   "outputs": [
    {
     "data": {
      "image/png": "[encoded data removed]",
      "text/plain": [
       "<matplotlib.figure.Figure at 0x1f4b5e2aef0>"
      ]
     },
     "metadata": {},
     "output_type": "display_data"
    }
   ],
   "source": [
    "# plot counts of hipertension, diabetes, alcoholism, handicap\n",
    "style.use('ggplot')\n",
    "plt.bar([1,2,3,4,5], [2578, 3772, 1430, 677, 366],color=['paleturquoise','darkcyan','lightseagreen','darkturquoise'], align='center')\n",
    "plt.xticks([1,2,3,4,5],['Scholarship','Hypertension','Diabetes','Alcoholism','Handicap']);\n",
    "plt.title('No-Show Conditions')\n",
    "plt.xlabel('Patient Condition')\n",
    "plt.ylabel('No-Show Count');\n",
    "           "
   ]
  },
  {
   "cell_type": "markdown",
   "metadata": {
    "collapsed": true
   },
   "source": [
    "By analysis of the boxplot above, across all 100k plus patient appointments, those that have hypertension appear to have the most frequent no-shows.\n",
    "Following hypertension, those that are enrolled in the scholarship program come in second for most no-shows. \n",
    "<br>\n",
    "***It is important to note that some of these patients may have more than one category, such as a patient that has both diabetes and alcoholism. This particular analysis only looks at the sum of each category individually and compares them.**\n",
    "\n"
   ]
  },
  {
   "cell_type": "markdown",
   "metadata": {},
   "source": [
    "### Which neighborhood has the most no-shows? What kind of issues do these patients have?"
   ]
  },
  {
   "cell_type": "code",
   "execution_count": 24,
   "metadata": {},
   "outputs": [
    {
     "data": {
      "text/plain": [
       "JARDIM CAMBURI    1465\n",
       "MARIA ORTIZ       1219\n",
       "ITARARÉ            923\n",
       "RESISTÊNCIA        906\n",
       "CENTRO             703\n",
       "Name: neighbourhood, dtype: int64"
      ]
     },
     "execution_count": 24,
     "metadata": {},
     "output_type": "execute_result"
    }
   ],
   "source": [
    "# Continue to explore the data to address your additional research\n",
    "# Create a mask to show only no-shows and then the value counts of neighborhoods. \n",
    "#   investigate.\n",
    "sum = df.query('no_show == \"Yes\"')\n",
    "n_sum = sum['neighbourhood'].value_counts()\n",
    "n_sum.head()\n"
   ]
  },
  {
   "cell_type": "markdown",
   "metadata": {},
   "source": [
    "Neighborhood with the maximum amount of no-shows: <b>Jardim Camburi</b>"
   ]
  },
  {
   "cell_type": "code",
   "execution_count": 25,
   "metadata": {},
   "outputs": [
    {
     "data": {
      "text/plain": [
       "patientid        7746485718662943553444618312239834569825253471...\n",
       "appointmentid    5638014563699955905145583419556270755616245564...\n",
       "gender           FFMFFFMFMFMMFFFFFMMMMFFFMMFMFFFFFFMMMMFMFFFFFM...\n",
       "age                                                         337476\n",
       "neighbourhood    JARDIM CAMBURIJARDIM CAMBURIJARDIM CAMBURIJARD...\n",
       "scholarship                                                    159\n",
       "hypertension                                                   509\n",
       "diabetes                                                       251\n",
       "alcoholism                                                      10\n",
       "handicap                                                         6\n",
       "sms_received                                                  2575\n",
       "no_show          NoNoNoNoYesNoYesNoNoNoNoNoNoNoNoNoNoNoYesYesNo...\n",
       "dtype: object"
      ]
     },
     "execution_count": 25,
     "metadata": {},
     "output_type": "execute_result"
    }
   ],
   "source": [
    "# next look at the conditions of no-shows in Jardin Camburi\n",
    "jardim = df.query('neighbourhood == \"JARDIM CAMBURI\"')\n",
    "jardim.sum()"
   ]
  },
  {
   "cell_type": "markdown",
   "metadata": {},
   "source": [
    "Now we will plot the data shown which issues the patients at Jardim Camburi have. "
   ]
  },
  {
   "cell_type": "code",
   "execution_count": 122,
   "metadata": {},
   "outputs": [
    {
     "data": {
      "image/png": "[encoded data removed]",
      "text/plain": [
       "<matplotlib.figure.Figure at 0x1f4baa92710>"
      ]
     },
     "metadata": {},
     "output_type": "display_data"
    }
   ],
   "source": [
    "labels = 'Scholarship', 'Hypertension','Handicap', 'Diabetes', 'Alcoholism'\n",
    "sizes = [159, 509, 6, 251, 10]\n",
    "\n",
    "fig1, ax1 = plt.subplots()\n",
    "ax1.pie(sizes, labels=labels, autopct='%1.1f%%',\n",
    "        shadow=True, startangle=90)\n",
    "ax1.axis('equal')  \n",
    "plt.title('Jardim Camburi Patients')\n",
    "\n",
    "plt.show()"
   ]
  },
  {
   "cell_type": "markdown",
   "metadata": {},
   "source": [
    "In conclusion, the neighborhood that experiences the most no-shows is at the Jardin Camburi location. The largest categories for these no-show patients is that they have hypertension, followed by diabetes, then are enrolled in scholarship. \n",
    "<br>\n",
    "<br>\n",
    "To follow up, we will plot the number of no-shows by neighborhood below:\n"
   ]
  },
  {
   "cell_type": "code",
   "execution_count": 112,
   "metadata": {},
   "outputs": [
    {
     "data": {
      "text/plain": [
       "JARDIM CAMBURI       1465\n",
       "MARIA ORTIZ          1219\n",
       "ITARARÉ               923\n",
       "RESISTÊNCIA           906\n",
       "CENTRO                703\n",
       "JESUS DE NAZARETH     696\n",
       "JARDIM DA PENHA       631\n",
       "CARATOÍRA             591\n",
       "TABUAZEIRO            573\n",
       "BONFIM                550\n",
       "Name: neighbourhood, dtype: int64"
      ]
     },
     "execution_count": 112,
     "metadata": {},
     "output_type": "execute_result"
    }
   ],
   "source": [
    "#find top ten no-show neighborhoods\n",
    "n_sum.head(10)"
   ]
  },
  {
   "cell_type": "code",
   "execution_count": 124,
   "metadata": {},
   "outputs": [
    {
     "data": {
      "image/png": "[encoded data removed]",
      "text/plain": [
       "<matplotlib.figure.Figure at 0x1f4ba99b208>"
      ]
     },
     "metadata": {},
     "output_type": "display_data"
    }
   ],
   "source": [
    "#create a scatter plot to show neighborhoods\n",
    "x = ['JARDIM CAMBURI', 'MARIA ORTIZ', 'ITARARÉ', 'RESISTÊNCIA', 'CENTRO', 'JESUS DE NAZARETH', 'JARDIM DA PENHA', 'CARATOÍRA', 'TABUAZEIRO', 'BONFIM'] \n",
    "y = [1465, 1219, 923, 906, 703, 696, 631, 591, 573, 550]\n",
    "z=np.random.rand(10)\n",
    "plt.figure(1, [20,5])\n",
    "plt.scatter(x, y, c=z, s=150, cmap=plt.cm.cool, edgecolors='None', alpha=0.75)\n",
    "plt.title('Top 10 No-Show Neighborhoods')\n",
    "plt.xlabel('Neighborhoods')\n",
    "plt.ylabel('No-Show Count');\n",
    "\n",
    "\n",
    "\n",
    "plt.show()"
   ]
  },
  {
   "cell_type": "markdown",
   "metadata": {},
   "source": [
    "### Which day of the week is best for appointments and which day of the week is worst?"
   ]
  },
  {
   "cell_type": "code",
   "execution_count": 27,
   "metadata": {},
   "outputs": [
    {
     "data": {
      "text/html": [
       "<div>\n",
       "<style scoped>\n",
       "    .dataframe tbody tr th:only-of-type {\n",
       "        vertical-align: middle;\n",
       "    }\n",
       "\n",
       "    .dataframe tbody tr th {\n",
       "        vertical-align: top;\n",
       "    }\n",
       "\n",
       "    .dataframe thead th {\n",
       "        text-align: right;\n",
       "    }\n",
       "</style>\n",
       "<table border=\"1\" class=\"dataframe\">\n",
       "  <thead>\n",
       "    <tr style=\"text-align: right;\">\n",
       "      <th></th>\n",
       "      <th>patientid</th>\n",
       "      <th>appointmentid</th>\n",
       "      <th>gender</th>\n",
       "      <th>appointmentday</th>\n",
       "      <th>age</th>\n",
       "      <th>neighbourhood</th>\n",
       "      <th>scholarship</th>\n",
       "      <th>hypertension</th>\n",
       "      <th>diabetes</th>\n",
       "      <th>alcoholism</th>\n",
       "      <th>handicap</th>\n",
       "      <th>sms_received</th>\n",
       "      <th>no_show</th>\n",
       "    </tr>\n",
       "    <tr>\n",
       "      <th>scheduledday</th>\n",
       "      <th></th>\n",
       "      <th></th>\n",
       "      <th></th>\n",
       "      <th></th>\n",
       "      <th></th>\n",
       "      <th></th>\n",
       "      <th></th>\n",
       "      <th></th>\n",
       "      <th></th>\n",
       "      <th></th>\n",
       "      <th></th>\n",
       "      <th></th>\n",
       "      <th></th>\n",
       "    </tr>\n",
       "  </thead>\n",
       "  <tbody>\n",
       "    <tr>\n",
       "      <th>1970-01-01 00:00:00.000000000</th>\n",
       "      <td>18523</td>\n",
       "      <td>18523</td>\n",
       "      <td>18523</td>\n",
       "      <td>18523</td>\n",
       "      <td>18523</td>\n",
       "      <td>18523</td>\n",
       "      <td>18523</td>\n",
       "      <td>18523</td>\n",
       "      <td>18523</td>\n",
       "      <td>18523</td>\n",
       "      <td>18523</td>\n",
       "      <td>18523</td>\n",
       "      <td>18523</td>\n",
       "    </tr>\n",
       "    <tr>\n",
       "      <th>1970-01-01 00:00:00.000000001</th>\n",
       "      <td>20877</td>\n",
       "      <td>20877</td>\n",
       "      <td>20877</td>\n",
       "      <td>20877</td>\n",
       "      <td>20877</td>\n",
       "      <td>20877</td>\n",
       "      <td>20877</td>\n",
       "      <td>20877</td>\n",
       "      <td>20877</td>\n",
       "      <td>20877</td>\n",
       "      <td>20877</td>\n",
       "      <td>20877</td>\n",
       "      <td>20877</td>\n",
       "    </tr>\n",
       "    <tr>\n",
       "      <th>1970-01-01 00:00:00.000000002</th>\n",
       "      <td>19383</td>\n",
       "      <td>19383</td>\n",
       "      <td>19383</td>\n",
       "      <td>19383</td>\n",
       "      <td>19383</td>\n",
       "      <td>19383</td>\n",
       "      <td>19383</td>\n",
       "      <td>19383</td>\n",
       "      <td>19383</td>\n",
       "      <td>19383</td>\n",
       "      <td>19383</td>\n",
       "      <td>19383</td>\n",
       "      <td>19383</td>\n",
       "    </tr>\n",
       "    <tr>\n",
       "      <th>1970-01-01 00:00:00.000000003</th>\n",
       "      <td>14373</td>\n",
       "      <td>14373</td>\n",
       "      <td>14373</td>\n",
       "      <td>14373</td>\n",
       "      <td>14373</td>\n",
       "      <td>14373</td>\n",
       "      <td>14373</td>\n",
       "      <td>14373</td>\n",
       "      <td>14373</td>\n",
       "      <td>14373</td>\n",
       "      <td>14373</td>\n",
       "      <td>14373</td>\n",
       "      <td>14373</td>\n",
       "    </tr>\n",
       "    <tr>\n",
       "      <th>1970-01-01 00:00:00.000000004</th>\n",
       "      <td>15028</td>\n",
       "      <td>15028</td>\n",
       "      <td>15028</td>\n",
       "      <td>15028</td>\n",
       "      <td>15028</td>\n",
       "      <td>15028</td>\n",
       "      <td>15028</td>\n",
       "      <td>15028</td>\n",
       "      <td>15028</td>\n",
       "      <td>15028</td>\n",
       "      <td>15028</td>\n",
       "      <td>15028</td>\n",
       "      <td>15028</td>\n",
       "    </tr>\n",
       "    <tr>\n",
       "      <th>1970-01-01 00:00:00.000000005</th>\n",
       "      <td>23</td>\n",
       "      <td>23</td>\n",
       "      <td>23</td>\n",
       "      <td>23</td>\n",
       "      <td>23</td>\n",
       "      <td>23</td>\n",
       "      <td>23</td>\n",
       "      <td>23</td>\n",
       "      <td>23</td>\n",
       "      <td>23</td>\n",
       "      <td>23</td>\n",
       "      <td>23</td>\n",
       "      <td>23</td>\n",
       "    </tr>\n",
       "  </tbody>\n",
       "</table>\n",
       "</div>"
      ],
      "text/plain": [
       "                               patientid  appointmentid  gender  \\\n",
       "scheduledday                                                      \n",
       "1970-01-01 00:00:00.000000000      18523          18523   18523   \n",
       "1970-01-01 00:00:00.000000001      20877          20877   20877   \n",
       "1970-01-01 00:00:00.000000002      19383          19383   19383   \n",
       "1970-01-01 00:00:00.000000003      14373          14373   14373   \n",
       "1970-01-01 00:00:00.000000004      15028          15028   15028   \n",
       "1970-01-01 00:00:00.000000005         23             23      23   \n",
       "\n",
       "                               appointmentday    age  neighbourhood  \\\n",
       "scheduledday                                                          \n",
       "1970-01-01 00:00:00.000000000           18523  18523          18523   \n",
       "1970-01-01 00:00:00.000000001           20877  20877          20877   \n",
       "1970-01-01 00:00:00.000000002           19383  19383          19383   \n",
       "1970-01-01 00:00:00.000000003           14373  14373          14373   \n",
       "1970-01-01 00:00:00.000000004           15028  15028          15028   \n",
       "1970-01-01 00:00:00.000000005              23     23             23   \n",
       "\n",
       "                               scholarship  hypertension  diabetes  \\\n",
       "scheduledday                                                         \n",
       "1970-01-01 00:00:00.000000000        18523         18523     18523   \n",
       "1970-01-01 00:00:00.000000001        20877         20877     20877   \n",
       "1970-01-01 00:00:00.000000002        19383         19383     19383   \n",
       "1970-01-01 00:00:00.000000003        14373         14373     14373   \n",
       "1970-01-01 00:00:00.000000004        15028         15028     15028   \n",
       "1970-01-01 00:00:00.000000005           23            23        23   \n",
       "\n",
       "                               alcoholism  handicap  sms_received  no_show  \n",
       "scheduledday                                                                \n",
       "1970-01-01 00:00:00.000000000       18523     18523         18523    18523  \n",
       "1970-01-01 00:00:00.000000001       20877     20877         20877    20877  \n",
       "1970-01-01 00:00:00.000000002       19383     19383         19383    19383  \n",
       "1970-01-01 00:00:00.000000003       14373     14373         14373    14373  \n",
       "1970-01-01 00:00:00.000000004       15028     15028         15028    15028  \n",
       "1970-01-01 00:00:00.000000005          23        23            23       23  "
      ]
     },
     "execution_count": 27,
     "metadata": {},
     "output_type": "execute_result"
    }
   ],
   "source": [
    "# day counts for patients that did show up \n",
    "yes_show = df.query('no_show == \"No\"')\n",
    "yes_show.groupby('scheduledday').count()\n"
   ]
  },
  {
   "cell_type": "markdown",
   "metadata": {},
   "source": [
    "Day counts for patients that <b>showed up</b> to their appointments:\n",
    "<br>\n",
    "<br>\n",
    "[Monday, Tuesday, Wednesday, Thursday, Friday, Saturday]\n",
    "<br>\n",
    "[18524, 20877, 19383, 14373, 15028, 23]"
   ]
  },
  {
   "cell_type": "code",
   "execution_count": 28,
   "metadata": {},
   "outputs": [
    {
     "data": {
      "text/html": [
       "<div>\n",
       "<style scoped>\n",
       "    .dataframe tbody tr th:only-of-type {\n",
       "        vertical-align: middle;\n",
       "    }\n",
       "\n",
       "    .dataframe tbody tr th {\n",
       "        vertical-align: top;\n",
       "    }\n",
       "\n",
       "    .dataframe thead th {\n",
       "        text-align: right;\n",
       "    }\n",
       "</style>\n",
       "<table border=\"1\" class=\"dataframe\">\n",
       "  <thead>\n",
       "    <tr style=\"text-align: right;\">\n",
       "      <th></th>\n",
       "      <th>patientid</th>\n",
       "      <th>appointmentid</th>\n",
       "      <th>gender</th>\n",
       "      <th>appointmentday</th>\n",
       "      <th>age</th>\n",
       "      <th>neighbourhood</th>\n",
       "      <th>scholarship</th>\n",
       "      <th>hypertension</th>\n",
       "      <th>diabetes</th>\n",
       "      <th>alcoholism</th>\n",
       "      <th>handicap</th>\n",
       "      <th>sms_received</th>\n",
       "      <th>no_show</th>\n",
       "    </tr>\n",
       "    <tr>\n",
       "      <th>scheduledday</th>\n",
       "      <th></th>\n",
       "      <th></th>\n",
       "      <th></th>\n",
       "      <th></th>\n",
       "      <th></th>\n",
       "      <th></th>\n",
       "      <th></th>\n",
       "      <th></th>\n",
       "      <th></th>\n",
       "      <th></th>\n",
       "      <th></th>\n",
       "      <th></th>\n",
       "      <th></th>\n",
       "    </tr>\n",
       "  </thead>\n",
       "  <tbody>\n",
       "    <tr>\n",
       "      <th>1970-01-01 00:00:00.000000000</th>\n",
       "      <td>4561</td>\n",
       "      <td>4561</td>\n",
       "      <td>4561</td>\n",
       "      <td>4561</td>\n",
       "      <td>4561</td>\n",
       "      <td>4561</td>\n",
       "      <td>4561</td>\n",
       "      <td>4561</td>\n",
       "      <td>4561</td>\n",
       "      <td>4561</td>\n",
       "      <td>4561</td>\n",
       "      <td>4561</td>\n",
       "      <td>4561</td>\n",
       "    </tr>\n",
       "    <tr>\n",
       "      <th>1970-01-01 00:00:00.000000001</th>\n",
       "      <td>5291</td>\n",
       "      <td>5291</td>\n",
       "      <td>5291</td>\n",
       "      <td>5291</td>\n",
       "      <td>5291</td>\n",
       "      <td>5291</td>\n",
       "      <td>5291</td>\n",
       "      <td>5291</td>\n",
       "      <td>5291</td>\n",
       "      <td>5291</td>\n",
       "      <td>5291</td>\n",
       "      <td>5291</td>\n",
       "      <td>5291</td>\n",
       "    </tr>\n",
       "    <tr>\n",
       "      <th>1970-01-01 00:00:00.000000002</th>\n",
       "      <td>4879</td>\n",
       "      <td>4879</td>\n",
       "      <td>4879</td>\n",
       "      <td>4879</td>\n",
       "      <td>4879</td>\n",
       "      <td>4879</td>\n",
       "      <td>4879</td>\n",
       "      <td>4879</td>\n",
       "      <td>4879</td>\n",
       "      <td>4879</td>\n",
       "      <td>4879</td>\n",
       "      <td>4879</td>\n",
       "      <td>4879</td>\n",
       "    </tr>\n",
       "    <tr>\n",
       "      <th>1970-01-01 00:00:00.000000003</th>\n",
       "      <td>3700</td>\n",
       "      <td>3700</td>\n",
       "      <td>3700</td>\n",
       "      <td>3700</td>\n",
       "      <td>3700</td>\n",
       "      <td>3700</td>\n",
       "      <td>3700</td>\n",
       "      <td>3700</td>\n",
       "      <td>3700</td>\n",
       "      <td>3700</td>\n",
       "      <td>3700</td>\n",
       "      <td>3700</td>\n",
       "      <td>3700</td>\n",
       "    </tr>\n",
       "    <tr>\n",
       "      <th>1970-01-01 00:00:00.000000004</th>\n",
       "      <td>3887</td>\n",
       "      <td>3887</td>\n",
       "      <td>3887</td>\n",
       "      <td>3887</td>\n",
       "      <td>3887</td>\n",
       "      <td>3887</td>\n",
       "      <td>3887</td>\n",
       "      <td>3887</td>\n",
       "      <td>3887</td>\n",
       "      <td>3887</td>\n",
       "      <td>3887</td>\n",
       "      <td>3887</td>\n",
       "      <td>3887</td>\n",
       "    </tr>\n",
       "    <tr>\n",
       "      <th>1970-01-01 00:00:00.000000005</th>\n",
       "      <td>1</td>\n",
       "      <td>1</td>\n",
       "      <td>1</td>\n",
       "      <td>1</td>\n",
       "      <td>1</td>\n",
       "      <td>1</td>\n",
       "      <td>1</td>\n",
       "      <td>1</td>\n",
       "      <td>1</td>\n",
       "      <td>1</td>\n",
       "      <td>1</td>\n",
       "      <td>1</td>\n",
       "      <td>1</td>\n",
       "    </tr>\n",
       "  </tbody>\n",
       "</table>\n",
       "</div>"
      ],
      "text/plain": [
       "                               patientid  appointmentid  gender  \\\n",
       "scheduledday                                                      \n",
       "1970-01-01 00:00:00.000000000       4561           4561    4561   \n",
       "1970-01-01 00:00:00.000000001       5291           5291    5291   \n",
       "1970-01-01 00:00:00.000000002       4879           4879    4879   \n",
       "1970-01-01 00:00:00.000000003       3700           3700    3700   \n",
       "1970-01-01 00:00:00.000000004       3887           3887    3887   \n",
       "1970-01-01 00:00:00.000000005          1              1       1   \n",
       "\n",
       "                               appointmentday   age  neighbourhood  \\\n",
       "scheduledday                                                         \n",
       "1970-01-01 00:00:00.000000000            4561  4561           4561   \n",
       "1970-01-01 00:00:00.000000001            5291  5291           5291   \n",
       "1970-01-01 00:00:00.000000002            4879  4879           4879   \n",
       "1970-01-01 00:00:00.000000003            3700  3700           3700   \n",
       "1970-01-01 00:00:00.000000004            3887  3887           3887   \n",
       "1970-01-01 00:00:00.000000005               1     1              1   \n",
       "\n",
       "                               scholarship  hypertension  diabetes  \\\n",
       "scheduledday                                                         \n",
       "1970-01-01 00:00:00.000000000         4561          4561      4561   \n",
       "1970-01-01 00:00:00.000000001         5291          5291      5291   \n",
       "1970-01-01 00:00:00.000000002         4879          4879      4879   \n",
       "1970-01-01 00:00:00.000000003         3700          3700      3700   \n",
       "1970-01-01 00:00:00.000000004         3887          3887      3887   \n",
       "1970-01-01 00:00:00.000000005            1             1         1   \n",
       "\n",
       "                               alcoholism  handicap  sms_received  no_show  \n",
       "scheduledday                                                                \n",
       "1970-01-01 00:00:00.000000000        4561      4561          4561     4561  \n",
       "1970-01-01 00:00:00.000000001        5291      5291          5291     5291  \n",
       "1970-01-01 00:00:00.000000002        4879      4879          4879     4879  \n",
       "1970-01-01 00:00:00.000000003        3700      3700          3700     3700  \n",
       "1970-01-01 00:00:00.000000004        3887      3887          3887     3887  \n",
       "1970-01-01 00:00:00.000000005           1         1             1        1  "
      ]
     },
     "execution_count": 28,
     "metadata": {},
     "output_type": "execute_result"
    }
   ],
   "source": [
    "# day counts for patients that did not show up \n",
    "no_show = df.query('no_show == \"Yes\"')\n",
    "no_show.groupby('scheduledday').count()\n"
   ]
  },
  {
   "cell_type": "markdown",
   "metadata": {},
   "source": [
    "Day counts for patients that <b>did not show up</b> to their appointments:\n",
    "<br>\n",
    "<br>\n",
    "[Monday, Tuesday, Wednesday, Thursday, Friday, Saturday]\n",
    "<br>\n",
    "[4561, 5291, 4879, 3700, 3887, 1]"
   ]
  },
  {
   "cell_type": "code",
   "execution_count": 119,
   "metadata": {},
   "outputs": [
    {
     "data": {
      "image/png": "[encoded data removed]",
      "text/plain": [
       "<matplotlib.figure.Figure at 0x1f4baa7a320>"
      ]
     },
     "metadata": {},
     "output_type": "display_data"
    }
   ],
   "source": [
    "style.use('ggplot')\n",
    "\n",
    "x = [1,2,3,4,5,6]\n",
    "y = [18524, 20877, 19383, 14373, 15028, 23]\n",
    "y2 = [4561, 5291, 4879, 3700, 3887, 1]\n",
    "\n",
    "\n",
    "plt.bar(x, y, color='paleturquoise', align='center', label='Showed Up')\n",
    "\n",
    "plt.bar(x, y2, color='darkcyan', align='center', label='No Show')\n",
    "\n",
    "plt.xticks([1,2,3,4,5,6],['Monday', 'Tuesday', 'Wednesday', 'Thursday', 'Friday', 'Saturday'])\n",
    "plt.title('Appointment Attendance and Day of Week')\n",
    "plt.ylabel('Patient Count')\n",
    "plt.xlabel('Day of Week')\n",
    "plt.legend(bbox_to_anchor=(1, .9), prop ={'size':10})\n",
    "\n",
    "\n",
    "plt.show()\n"
   ]
  },
  {
   "cell_type": "markdown",
   "metadata": {},
   "source": [
    "After reviewing the barchart above, it appears that Tuesday is the most popular day of week for appointment attendance as well as the most popular day for no-shows. Tuesday appears to be the most popular day to schedule an apppointment in general. "
   ]
  },
  {
   "cell_type": "markdown",
   "metadata": {},
   "source": [
    "### Below we will look at patient conditions and age and if they showed up to their appointments"
   ]
  },
  {
   "cell_type": "code",
   "execution_count": 155,
   "metadata": {},
   "outputs": [
    {
     "data": {
      "image/png": "[encoded data removed]",
      "text/plain": [
       "<matplotlib.figure.Figure at 0x1f4bb8cce48>"
      ]
     },
     "metadata": {},
     "output_type": "display_data"
    }
   ],
   "source": [
    "#no: showed up for their appointment\n",
    "#yes: no show for their appointent\n",
    "x= df['scholarship']\n",
    "y= df['age']\n",
    "z=np.random.rand(110526)\n",
    "plt.figure(1, [5,20])\n",
    "plt.scatter(x, y, c=z, s=150, cmap=plt.cm.cool, edgecolors='None', alpha=0.5)\n",
    "plt.title('No Shows: Patients Enrolled in Scholarship and Age ')\n",
    "plt.xlabel('Scholarship')\n",
    "plt.ylabel('Age')\n",
    "plt.xticks([0,1],['No','Yes']);"
   ]
  },
  {
   "cell_type": "code",
   "execution_count": 156,
   "metadata": {},
   "outputs": [
    {
     "data": {
      "image/png": "[encoded data removed]",
      "text/plain": [
       "<matplotlib.figure.Figure at 0x1f4baaff048>"
      ]
     },
     "metadata": {},
     "output_type": "display_data"
    }
   ],
   "source": [
    "#no: showed up for their appointment\n",
    "#yes: no show for their appointent\n",
    "x= df['diabetes']\n",
    "y= df['age']\n",
    "z=np.random.rand(110526)\n",
    "plt.figure(1, [5,20])\n",
    "plt.scatter(x, y, c=z, s=150, cmap=plt.cm.cool, edgecolors='None', alpha=0.5)\n",
    "plt.title('No Shows: Patients with Diabetes and Age ')\n",
    "plt.xlabel('Diabetes')\n",
    "plt.ylabel('Age')\n",
    "plt.xticks([0,1],['No','Yes']);"
   ]
  },
  {
   "cell_type": "code",
   "execution_count": 154,
   "metadata": {},
   "outputs": [
    {
     "data": {
      "image/png": "[encoded data removed]",
      "text/plain": [
       "<matplotlib.figure.Figure at 0x1f4bbb54668>"
      ]
     },
     "metadata": {},
     "output_type": "display_data"
    }
   ],
   "source": [
    "#no: showed up for their appointment\n",
    "#yes: no show for their appointent\n",
    "x= df['hypertension']\n",
    "y= df['age']\n",
    "z=np.random.rand(110526)\n",
    "plt.figure(1, [5,20])\n",
    "plt.scatter(x, y, c=z, s=150, cmap=plt.cm.cool, edgecolors='None', alpha=0.5)\n",
    "plt.title('No Shows: Patients with Hypertension and Age ')\n",
    "plt.xlabel('Hypertension')\n",
    "plt.ylabel('Age')\n",
    "plt.xticks([0,1],['No','Yes']);"
   ]
  },
  {
   "cell_type": "code",
   "execution_count": 157,
   "metadata": {},
   "outputs": [
    {
     "data": {
      "image/png": "[encoded data removed]",
      "text/plain": [
       "<matplotlib.figure.Figure at 0x1f4bbc8f128>"
      ]
     },
     "metadata": {},
     "output_type": "display_data"
    }
   ],
   "source": [
    "#no: showed up for their appointment\n",
    "#yes: no show for their appointent\n",
    "x= df['alcoholism']\n",
    "y= df['age']\n",
    "z=np.random.rand(110526)\n",
    "plt.figure(1, [5,20])\n",
    "plt.scatter(x, y, c=z, s=150, cmap=plt.cm.cool, edgecolors='None', alpha=0.5)\n",
    "plt.title('No Shows: Patients with Alcholism and Age ')\n",
    "plt.xlabel('Alcholism')\n",
    "plt.ylabel('Age')\n",
    "plt.xticks([0,1],['No','Yes']);"
   ]
  },
  {
   "cell_type": "markdown",
   "metadata": {},
   "source": [
    "As a result of the scatterplots, it appears that patients with alcoholism and those enrolled in scholarship had the least amount of older aged no-shows. Those that had diabetes had the largest amount of older aged no-shows. "
   ]
  },
  {
   "cell_type": "markdown",
   "metadata": {},
   "source": [
    "<a id='conclusions'></a>\n",
    "## Conclusions\n",
    "\n",
    "> **Limitations**: Some of my limitations included the following:\n",
    "<br>\n",
    "1. Most of the analysis is only based on what is visualised through the data. There is no supplmemental information on what could be a reason for more no-shows vs less. For example, there seemed to be no data on Sundays so are hospitals in Brazil closed on this day?\n",
    "<br>\n",
    "2. This analysis was limited by categorizing sums and their maximums; while there could be several patients that held several categories such as having hypertension and other issues like diabetes, or handicap, etc. \n",
    "<br>\n",
    "\n",
    "> **In Conclusion**: \n",
    "<br>\n",
    "1. Across the entire dataset, hypertension seems to be most common with no-show appointment patients. \n",
    "<br>\n",
    "2. Jardin Camburi is the neighborhood hospital that has the largest quantity of no-show appointments. The top condition these no-show patients have is hypertension followed by diabetes. \n",
    "<br>\n",
    "3. Rather than a specific day that has the most patients show up and a specific day that has the most no-shows, Tuesday seems to be the most popular day of the week for scheduling appointments. As a result of this, there is maximums in both categories for appointment attendance. Thursday seems to be the least popular day for appointments. \n",
    "<br>\n",
    "4. Older aged patients appear to have the most no-shows when diagnosed with diabetes. \n"
   ]
  },
  {
   "cell_type": "markdown",
   "metadata": {
    "collapsed": true
   },
   "source": [
    "Resources: https://stackoverflow.com/questions/17868024/matplotlib-python-scatter-plot\n",
    "<br>\n",
    "https://stackoverflow.com/questions/29300734/labels-of-the-axis-from-overlapping-each-other\n"
   ]
  },
  {
   "cell_type": "code",
   "execution_count": null,
   "metadata": {
    "collapsed": true
   },
   "outputs": [],
   "source": []
  },
  {
   "cell_type": "code",
   "execution_count": null,
   "metadata": {
    "collapsed": true
   },
   "outputs": [],
   "source": []
  },
  {
   "cell_type": "code",
   "execution_count": null,
   "metadata": {
    "collapsed": true
   },
   "outputs": [],
   "source": []
  },
  {
   "cell_type": "code",
   "execution_count": null,
   "metadata": {
    "collapsed": true
   },
   "outputs": [],
   "source": []
  },
  {
   "cell_type": "code",
   "execution_count": null,
   "metadata": {
    "collapsed": true
   },
   "outputs": [],
   "source": []
  },
  {
   "cell_type": "code",
   "execution_count": null,
   "metadata": {
    "collapsed": true
   },
   "outputs": [],
   "source": []
  },
  {
   "cell_type": "code",
   "execution_count": null,
   "metadata": {
    "collapsed": true
   },
   "outputs": [],
   "source": []
  }
 ],
 "metadata": {
  "kernelspec": {
   "display_name": "Python [default]",
   "language": "python",
   "name": "python3"
  },
  "language_info": {
   "codemirror_mode": {
    "name": "ipython",
    "version": 3
   },
   "file_extension": ".py",
   "mimetype": "text/x-python",
   "name": "python",
   "nbconvert_exporter": "python",
   "pygments_lexer": "ipython3",
   "version": "3.6.3"
  }
 },
 "nbformat": 4,
 "nbformat_minor": 2
}
